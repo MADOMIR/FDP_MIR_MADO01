{
 "cells": [
  {
   "cell_type": "markdown",
   "metadata": {},
   "source": [
    "### Ejercicio 1"
   ]
  },
  {
   "cell_type": "code",
   "execution_count": null,
   "metadata": {},
   "outputs": [],
   "source": [
    "try:\n",
    "    Num1=int(input(\"Ingrese un número entero\"))\n",
    "except:\n",
    "    print(\"Valor ingresado inválido por favor ingrese un número entero\")\n",
    "i=0\n",
    "while i<Num1+1:\n",
    "    x=0\n",
    "    while x<Num1-i:\n",
    "        print(Num1-x-i,end=\" \")\n",
    "        x+=1\n",
    "    i+=1\n",
    "    print(\"\")\n"
   ]
  },
  {
   "cell_type": "markdown",
   "metadata": {},
   "source": [
    "### Ejericio 2"
   ]
  },
  {
   "cell_type": "code",
   "execution_count": null,
   "metadata": {},
   "outputs": [],
   "source": [
    "try:\n",
    "    Num1=int(input(\"Ingrese un número entero\"))\n",
    "except:\n",
    "    print(\"Valor ingresado inválido por favor ingrese un número entero\")\n",
    "\n",
    "print(\"El numero original es \", Num1)\n",
    "print(\"El numero volteado es \", end=\" \")\n",
    "NumDigitos=len(str(Num1))\n",
    "ResiduoAnterior=0\n",
    "for i in range(1,NumDigitos+1):\n",
    "    Residuo=Num1%(pow(10,i))\n",
    "    Digito=(int(Residuo-ResiduoAnterior)//pow(10,(i-1)))\n",
    "    ResiduoAnterior=Residuo\n",
    "    print(Digito, end=\"\")\n",
    "    \n",
    "\n"
   ]
  },
  {
   "cell_type": "markdown",
   "metadata": {},
   "source": [
    "### Ejercicio 3"
   ]
  },
  {
   "cell_type": "code",
   "execution_count": null,
   "metadata": {},
   "outputs": [],
   "source": [
    "try:\n",
    "    Num1=int(input(\"Ingrese un número entero\"))\n",
    "except:\n",
    "    print(\"Valor ingresado inválido por favor ingrese un número entero\")\n",
    "Valor=0\n",
    "ValorAnterior=0\n",
    "Suma=0\n",
    "for i in range(1, Num1+1):\n",
    "    for j in range (1,i+1):\n",
    "        print(\"3\",end=\"\")\n",
    "        \n",
    "    if i!=Num1:\n",
    "        print(\" +\",end=\" \")\n",
    "    else:\n",
    "        print(\"\")\n",
    "    Valor=3*pow(10,i-1)+ValorAnterior\n",
    "    ValorAnterior=Valor\n",
    "    Suma=Suma+Valor\n",
    "print(\"La sumatoria es \",Suma)"
   ]
  },
  {
   "cell_type": "markdown",
   "metadata": {},
   "source": [
    "### Ejercicio 4"
   ]
  },
  {
   "cell_type": "code",
   "execution_count": null,
   "metadata": {},
   "outputs": [],
   "source": [
    "try:\n",
    "    Num1=int(input(\"Ingrese un número entero\"))\n",
    "except:\n",
    "    print(\"Valor ingresado inválido por favor ingrese un número entero\")\n",
    "for i in range(1, Num1+1):\n",
    "    for j in range (1,i+1):\n",
    "        print(\"*\",end=\" \")\n",
    "    print(\"\")\n",
    "\n",
    "for k in range(1,Num1):\n",
    "    for l in range(1,Num1-k+1):\n",
    "        print(\"*\",end=\" \")\n",
    "    print(\"\")"
   ]
  }
 ],
 "metadata": {
  "interpreter": {
   "hash": "0600588c3b5f4418cbe7b5ebc6825b479f3bc010269d8b60d75058cdd010adfe"
  },
  "kernelspec": {
   "display_name": "Python 3.7.5 64-bit",
   "language": "python",
   "name": "python3"
  },
  "language_info": {
   "codemirror_mode": {
    "name": "ipython",
    "version": 3
   },
   "file_extension": ".py",
   "mimetype": "text/x-python",
   "name": "python",
   "nbconvert_exporter": "python",
   "pygments_lexer": "ipython3",
   "version": "3.7.5"
  },
  "orig_nbformat": 4
 },
 "nbformat": 4,
 "nbformat_minor": 2
}
