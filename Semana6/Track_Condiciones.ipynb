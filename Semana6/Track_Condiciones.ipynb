{
 "cells": [
  {
   "cell_type": "markdown",
   "metadata": {},
   "source": [
    "### Ejercicio 1"
   ]
  },
  {
   "cell_type": "code",
   "execution_count": 19,
   "metadata": {},
   "outputs": [
    {
     "name": "stdout",
     "output_type": "stream",
     "text": [
      "La letra  l  es una consonante\n"
     ]
    }
   ],
   "source": [
    "Entrada=input(\"Ingrese una letra\")\n",
    "LongitudEntrada=len(Entrada)\n",
    "LetraMinuscula=Entrada.lower()\n",
    "if LongitudEntrada == 1:\n",
    "    if (LetraMinuscula==\"a\") or (LetraMinuscula==\"e\") or (LetraMinuscula==\"i\") or (LetraMinuscula==\"o\") or (LetraMinuscula==\"u\"): \n",
    "        print(\"La letra \",Entrada,\" es una vocal\")\n",
    "    elif Entrada.isdigit():\n",
    "        print(\"Se ingresó un dígito no una letra\")\n",
    "    else:\n",
    "        print(\"La letra \",Entrada,\" es una consonante\")\n",
    "else:\n",
    "    print(\"Se ingresó más de una letra\")"
   ]
  },
  {
   "cell_type": "markdown",
   "metadata": {},
   "source": [
    "### Ejercicio 2"
   ]
  },
  {
   "cell_type": "code",
   "execution_count": 12,
   "metadata": {},
   "outputs": [
    {
     "name": "stdout",
     "output_type": "stream",
     "text": [
      "El triangulo de lados  3 ,  3 ,  5  es un triangulo isóseles\n"
     ]
    }
   ],
   "source": [
    "ValorValido=True\n",
    "try:\n",
    "    CatetoA=int(input(\"Ingrese la longitud del primer lado del triangulo\"))\n",
    "    CatetoB=int(input(\"Ingrese la longitud del segundo lado del triangulo\"))\n",
    "    CatetoC=int(input(\"Ingrese la longitud del tercero lado del triangulo\"))\n",
    "except:\n",
    "    print(\"Valor ingresado no válido por favor ingrese un valor numérico\")\n",
    "    ValorValido=False\n",
    "if ValorValido==True:\n",
    "    if CatetoA==CatetoB==CatetoC:\n",
    "        print(\"El triangulo de lados \",CatetoA, \", \",CatetoB,\", \",CatetoC, \" es un triangulo equilatero\")\n",
    "    elif CatetoA!=CatetoB!=CatetoC:\n",
    "        print(\"El triangulo de lados \",CatetoA, \", \",CatetoB,\", \",CatetoC, \" es un triangulo escaleno\")\n",
    "    else:\n",
    "        print(\"El triangulo de lados \",CatetoA, \", \",CatetoB,\", \",CatetoC, \" es un triangulo isóseles\")"
   ]
  },
  {
   "cell_type": "markdown",
   "metadata": {},
   "source": [
    "### Ejercicio 3"
   ]
  },
  {
   "cell_type": "code",
   "execution_count": 2,
   "metadata": {},
   "outputs": [
    {
     "name": "stdout",
     "output_type": "stream",
     "text": [
      "El estudiante reprobó con una nota de 56\n"
     ]
    }
   ],
   "source": [
    "ValorValido=True\n",
    "try:\n",
    "    NotaAlumno=int(input(\"Ingrese la nota del alumno\"))\n",
    "except:\n",
    "    print(\"valor ingresado no válido por favor ingrese un valor numérico entero\")\n",
    "    ValorValido=False\n",
    "mensajes={\n",
    "        1: \"El estudiante aprobó con una nota de \",\n",
    "        2: \"El estudiante reprobó con una nota de \",\n",
    "    }\n",
    "if ValorValido==True:\n",
    "    valor=0\n",
    "    if NotaAlumno>=65 and NotaAlumno<=100:\n",
    "        valor=1\n",
    "    elif NotaAlumno<65 and NotaAlumno>=0:\n",
    "        valor=2\n",
    "    else:\n",
    "        print(\"Valor ingresado fuera de rango 0-100\")\n",
    "        exit()\n",
    "    print(mensajes.get(valor)+str(NotaAlumno))"
   ]
  },
  {
   "cell_type": "markdown",
   "metadata": {},
   "source": [
    "### Ejercicio 4"
   ]
  },
  {
   "cell_type": "code",
   "execution_count": 20,
   "metadata": {},
   "outputs": [
    {
     "name": "stdout",
     "output_type": "stream",
     "text": [
      "Noviembre corresponde al mes número 11\n"
     ]
    }
   ],
   "source": [
    "ValorValido=True\n",
    "try:\n",
    "    Valor=int(input(\"Ingrese un número de 1 a 12\"))\n",
    "except:\n",
    "    print(\"valor ingresado no válido por favor ingrese un valor numérico entero\")\n",
    "    ValorValido=False\n",
    "\n",
    "if ValorValido==True:\n",
    "    if Valor<1 or Valor>12:\n",
    "        print(\"Valor ingresado fuera de rango 1-12\")\n",
    "        ValorValido=False\n",
    "    else:\n",
    "        Meses={\n",
    "            1: \"Enero\",\n",
    "            2: \"Febrero\",\n",
    "            3: \"Marzo\",\n",
    "            4: \"Abril\",\n",
    "            5: \"Mayo\",\n",
    "            6: \"Junio\",\n",
    "            7: \"Julio\",\n",
    "            8: \"Agosto\",\n",
    "            9: \"Septiembre\",\n",
    "            10: \"Octubre\",\n",
    "            11: \"Noviembre\",\n",
    "            12: \"Diciembre\",\n",
    "        }\n",
    "        print(Meses.get(Valor)+\" corresponde al mes número \"+str(Valor))"
   ]
  },
  {
   "cell_type": "markdown",
   "metadata": {},
   "source": [
    "### Ejercicio 5"
   ]
  },
  {
   "cell_type": "code",
   "execution_count": 18,
   "metadata": {},
   "outputs": [
    {
     "name": "stdout",
     "output_type": "stream",
     "text": [
      "El año  2032  es año bisiesto\n"
     ]
    }
   ],
   "source": [
    "ValorValido=True\n",
    "try:\n",
    "    NumeroDeAno=int(input(\"Ingrese un numero de año para saber si fue bisiesto\"))\n",
    "except:\n",
    "    print(\"valor ingresado no válido por favor ingrese un valor numérico entero\")\n",
    "    ValorValido=False\n",
    "\n",
    "if ValorValido==True:\n",
    "    if (NumeroDeAno%100==0 and NumeroDeAno%400==0) or (NumeroDeAno%100!=0 and NumeroDeAno%4==0):\n",
    "        print(\"El año \",NumeroDeAno, \" es año bisiesto\")\n",
    "    else:\n",
    "        print(\"El año \",NumeroDeAno, \" no es año bisiesto\")"
   ]
  }
 ],
 "metadata": {
  "interpreter": {
   "hash": "33c763318192ea432726bc2390ca6b3e159b486365da49b1f51fe69fe61e5096"
  },
  "kernelspec": {
   "display_name": "Python 3.9.10 64-bit (windows store)",
   "language": "python",
   "name": "python3"
  },
  "language_info": {
   "codemirror_mode": {
    "name": "ipython",
    "version": 3
   },
   "file_extension": ".py",
   "mimetype": "text/x-python",
   "name": "python",
   "nbconvert_exporter": "python",
   "pygments_lexer": "ipython3",
   "version": "3.9.10"
  },
  "orig_nbformat": 4
 },
 "nbformat": 4,
 "nbformat_minor": 2
}
