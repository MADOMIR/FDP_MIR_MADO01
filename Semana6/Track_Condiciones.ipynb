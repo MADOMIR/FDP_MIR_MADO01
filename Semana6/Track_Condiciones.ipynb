{
 "cells": [
  {
   "cell_type": "markdown",
   "metadata": {},
   "source": [
    "### Ejercicio 1"
   ]
  },
  {
   "cell_type": "code",
   "execution_count": 5,
   "metadata": {},
   "outputs": [
    {
     "name": "stdout",
     "output_type": "stream",
     "text": [
      "Se ingresó un dígito no una letra\n"
     ]
    }
   ],
   "source": [
    "Entrada=input(\"Ingrese una letra\")\n",
    "LongitudEntrada=len(Entrada)\n",
    "LetraMinuscula=Entrada.lower()\n",
    "if LongitudEntrada == 1:\n",
    "    if (LetraMinuscula==\"a\") or (LetraMinuscula==\"e\") or (LetraMinuscula==\"i\") or (LetraMinuscula==\"o\") or (LetraMinuscula==\"u\"): \n",
    "        print(\"La letra \",Entrada,\" es una vocal\")\n",
    "    elif Entrada.isdigit():\n",
    "        print(\"Se ingresó un dígito no una letra\")\n",
    "    else:\n",
    "        print(\"La letra \",Entrada,\" es una consonante\")\n",
    "else:\n",
    "    print(\"Se ingresó más de una letra\")"
   ]
  },
  {
   "cell_type": "markdown",
   "metadata": {},
   "source": [
    "### Ejercicio 2"
   ]
  },
  {
   "cell_type": "code",
   "execution_count": 11,
   "metadata": {},
   "outputs": [
    {
     "name": "stdout",
     "output_type": "stream",
     "text": [
      "Este es un triangulo equilatero\n"
     ]
    }
   ],
   "source": [
    "try:\n",
    "    CatetoA=int(input(\"Ingrese la longitud del primer lado del triangulo\"))\n",
    "    CatetoB=int(input(\"Ingrese la longitud del segundo lado del triangulo\"))\n",
    "    CatetoC=int(input(\"Ingrese la longitud del tercero lado del triangulo\"))\n",
    "except:\n",
    "    print(\"Valor ingresado no válido por favor ingrese un valor numérico\")\n",
    "\n",
    "if CatetoA==CatetoB==CatetoC:\n",
    "    print(\"Este es un triangulo equilatero\")\n",
    "elif CatetoA!=CatetoB!=CatetoC:\n",
    "    print(\"Este es un triangulo escaleno\")\n",
    "else:\n",
    "    print(\"Este es un triangulo isóseles\")\n",
    "\n",
    "\n",
    "\n"
   ]
  },
  {
   "cell_type": "code",
   "execution_count": 4,
   "metadata": {},
   "outputs": [
    {
     "name": "stdout",
     "output_type": "stream",
     "text": [
      "El estudiante reprobó con una nota de 54\n"
     ]
    }
   ],
   "source": [
    "try:\n",
    "    NotaAlumno=int(input(\"Ingrese la nota del alumno\"))\n",
    "except:\n",
    "    print(\"valor ingresado no válido por favor ingrese un valor numérico entero\")\n",
    "mensajes={\n",
    "        1: \"El estudiante aprobó con una nota de \",\n",
    "        2: \"El estudiante reprobó con una nota de \",\n",
    "    }\n",
    "valor=0\n",
    "if NotaAlumno>=65 and NotaAlumno<=100:\n",
    "    valor=1\n",
    "elif NotaAlumno<65 and NotaAlumno>=0:\n",
    "    valor=2\n",
    "else:\n",
    "    print(\"Valor ingresado fuera de rango 0-100\")\n",
    "    exit()\n",
    "print(mensajes.get(valor)+str(NotaAlumno))\n",
    "\n",
    "    \n"
   ]
  }
 ],
 "metadata": {
  "interpreter": {
   "hash": "33c763318192ea432726bc2390ca6b3e159b486365da49b1f51fe69fe61e5096"
  },
  "kernelspec": {
   "display_name": "Python 3.9.10 64-bit (windows store)",
   "language": "python",
   "name": "python3"
  },
  "language_info": {
   "codemirror_mode": {
    "name": "ipython",
    "version": 3
   },
   "file_extension": ".py",
   "mimetype": "text/x-python",
   "name": "python",
   "nbconvert_exporter": "python",
   "pygments_lexer": "ipython3",
   "version": "3.9.10"
  },
  "orig_nbformat": 4
 },
 "nbformat": 4,
 "nbformat_minor": 2
}
